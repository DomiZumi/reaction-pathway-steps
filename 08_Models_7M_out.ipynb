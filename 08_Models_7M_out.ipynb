{
 "cells": [
  {
   "cell_type": "code",
   "execution_count": 20,
   "id": "6b42202b",
   "metadata": {},
   "outputs": [],
   "source": [
    "import numpy as np\n",
    "import pandas as pd\n",
    "import seaborn as sns\n",
    "import matplotlib.pyplot as plt\n",
    "from sklearn.model_selection import train_test_split\n",
    "from sklearn.model_selection import cross_validate\n",
    "from sklearn.preprocessing import StandardScaler\n",
    "import time\n",
    "import itertools\n",
    "import xgboost as xgb\n",
    "from sklearn.ensemble import RandomForestRegressor\n",
    "from sklearn.neighbors import KNeighborsRegressor\n",
    "from sklearn.neural_network import MLPRegressor\n",
    "from sklearn.svm import SVR\n",
    "from sklearn.model_selection import GridSearchCV\n",
    "from sklearn.metrics import confusion_matrix, ConfusionMatrixDisplay\n",
    "from sklearn.model_selection import cross_val_score"
   ]
  },
  {
   "cell_type": "code",
   "execution_count": 2,
   "id": "1e3ad439",
   "metadata": {},
   "outputs": [],
   "source": [
    "from numpy.random import seed\n",
    "seed(1)"
   ]
  },
  {
   "cell_type": "code",
   "execution_count": 3,
   "id": "a0cdccf0",
   "metadata": {},
   "outputs": [],
   "source": [
    "#df_bin = pd.read_csv('data/7Mfinal_balanced_bin_filter_scaf.csv')\n",
    "df = pd.read_csv('data/final_data.csv')"
   ]
  },
  {
   "cell_type": "code",
   "execution_count": 4,
   "id": "fe91b580",
   "metadata": {},
   "outputs": [
    {
     "name": "stderr",
     "output_type": "stream",
     "text": [
      "/var/tmp/pbs.45885.lich-compute.vscht.cz/ipykernel_4046/3154387766.py:4: FutureWarning: Automatic reindexing on DataFrame vs Series comparisons is deprecated and will raise ValueError in a future version. Do `left, right = left.align(right, axis=1, copy=False)` before e.g. `left == right`\n",
      "  df_drop_out = df[~((df < (Q1 - 1.5 * IQR)) | (df > (Q3 + 1.5 * IQR))).any(axis=1)]\n"
     ]
    },
    {
     "data": {
      "text/plain": [
       "((18176, 9), (16598, 9))"
      ]
     },
     "execution_count": 4,
     "metadata": {},
     "output_type": "execute_result"
    }
   ],
   "source": [
    "Q1 = df[['syba', 'sascore', 'scscore', 'MolWt', 'MolLogP', 'NumHAccept', 'NumHDonors']].quantile(0.25)\n",
    "Q3 = df[['syba', 'sascore', 'scscore', 'MolWt', 'MolLogP', 'NumHAccept', 'NumHDonors']].quantile(0.75)\n",
    "IQR = Q3 - Q1\n",
    "df_drop_out = df[~((df < (Q1 - 1.5 * IQR)) | (df > (Q3 + 1.5 * IQR))).any(axis=1)]\n",
    "df.shape, df_drop_out.shape"
   ]
  },
  {
   "cell_type": "code",
   "execution_count": 6,
   "id": "c893567c",
   "metadata": {},
   "outputs": [],
   "source": [
    "df_bin = df_drop_out"
   ]
  },
  {
   "cell_type": "code",
   "execution_count": 7,
   "id": "7df4fe71",
   "metadata": {},
   "outputs": [
    {
     "data": {
      "text/plain": [
       "1    5376\n",
       "0    4905\n",
       "2    3386\n",
       "3    2931\n",
       "Name: steps_bins, dtype: int64"
      ]
     },
     "execution_count": 7,
     "metadata": {},
     "output_type": "execute_result"
    }
   ],
   "source": [
    "df_bin['steps_bins'] = pd.cut(df_bin['number_of_steps'], [0,1,3,6,10], labels=False)\n",
    "df_bin.steps_bins.value_counts()"
   ]
  },
  {
   "cell_type": "code",
   "execution_count": 8,
   "id": "5644c84a",
   "metadata": {},
   "outputs": [],
   "source": [
    "y_bin = np.array(df_bin.steps_bins).ravel()\n",
    "y_ste = np.array(df_bin.number_of_steps).ravel()\n",
    "x = np.array(df_bin[['syba', 'sascore', 'scscore', 'MolWt', 'MolLogP', 'NumHAccept', 'NumHDonors']])\n",
    "x = StandardScaler().fit_transform(x)"
   ]
  },
  {
   "cell_type": "code",
   "execution_count": 9,
   "id": "ba7bedab",
   "metadata": {},
   "outputs": [],
   "source": [
    "#x = StandardScaler().fit_transform(x)\n",
    "X_train, X_test, y_train, y_test = train_test_split(x, y_bin, test_size=0.25, random_state=1)\n",
    "X_train_ste, X_test_ste, y_train_ste, y_test_ste = train_test_split(x, y_ste, test_size=0.25, random_state=1)"
   ]
  },
  {
   "cell_type": "code",
   "execution_count": 10,
   "id": "ad6f6be3",
   "metadata": {},
   "outputs": [],
   "source": [
    "def cross_scoring(model, X, Y):\n",
    "    score = {'r2':'r2',\n",
    "         'MAE':'neg_mean_absolute_error',\n",
    "         'MSE':'neg_mean_squared_error',\n",
    "         'RMSE':'neg_root_mean_squared_error'}\n",
    "    scores = cross_validate(model, X, Y, scoring=score, cv=10)\n",
    "    return scores"
   ]
  },
  {
   "cell_type": "code",
   "execution_count": 11,
   "id": "85c55fd0",
   "metadata": {},
   "outputs": [],
   "source": [
    "def vizualization_metrics(df):\n",
    "    fig, axes = plt.subplots(1, 2, figsize=(15, 5))\n",
    "    fig.tight_layout(pad=5.0)\n",
    "    #sns.barplot(ax=axes[0,0], data=df, x=\"model\", y=\"test_r2\")\n",
    "    #axes[0,0].set_title('R2')\n",
    "    sns.barplot(ax=axes[0], data=df, x=\"model\", y=\"test_MAE\")\n",
    "    axes[0].set_title('MAE')\n",
    "    sns.barplot(ax=axes[1], data=df, x=\"model\", y=\"test_MSE\")\n",
    "    axes[1].set_title('MSE')\n",
    "    #sns.barplot(ax=axes[1,1], data=df, x=\"model\", y=\"test_RMSE\")\n",
    "    #axes[1,1].set_title('RMSE')"
   ]
  },
  {
   "cell_type": "code",
   "execution_count": 12,
   "id": "256a1ae2",
   "metadata": {},
   "outputs": [],
   "source": [
    "def return_std(results):\n",
    "    model_std =  np.array(results.cv_results_['std_test_score']) \n",
    "    model_mse =  np.array((-1)*results.cv_results_['mean_test_score'])\n",
    "    std = 0\n",
    "    for i in range(len(model_mse)):\n",
    "        if model_mse[i] + results.best_score_ == 0:\n",
    "            std = model_std[i]\n",
    "    print('Best STD: %0.4f' % std)\n",
    "    return std\n",
    "\n",
    "def return_round_predict(model, X_train, y_train, X_test, limit):\n",
    "    model_fit = model.fit(X_train, y_train)\n",
    "    predict = model_fit.predict(X_test)\n",
    "    predict_r = np.array([round(y) for y in predict])\n",
    "    for i in range(len(predict_r)):\n",
    "        if predict_r[i] > limit:\n",
    "            predict_r[i] = limit\n",
    "    return predict_r  "
   ]
  },
  {
   "cell_type": "code",
   "execution_count": 13,
   "id": "589b90e1",
   "metadata": {},
   "outputs": [],
   "source": [
    "#models = ['RFR','XGB','SVR','KNR']\n",
    "names = ['KNR','RFR', 'SVR','XGB','MLP']\n",
    "RFR = RandomForestRegressor(random_state=0)\n",
    "XGB = xgb.XGBRegressor(seed=0)\n",
    "SV = SVR()\n",
    "KNR = KNeighborsRegressor()\n",
    "MLP = MLPRegressor(random_state=0, max_iter=1000)"
   ]
  },
  {
   "cell_type": "markdown",
   "id": "2cc9d0b3",
   "metadata": {},
   "source": [
    "### Groups"
   ]
  },
  {
   "cell_type": "code",
   "execution_count": 14,
   "id": "ff8f7d1e",
   "metadata": {},
   "outputs": [],
   "source": [
    "score_RFR = cross_scoring(RFR, x, y_bin)\n",
    "score_XGB = cross_scoring(XGB, x, y_bin)\n",
    "score_SVR = cross_scoring(SV, x, y_bin)\n",
    "score_KNR = cross_scoring(KNR, x, y_bin)\n",
    "score_MLP = cross_scoring(MLP, x, y_bin)"
   ]
  },
  {
   "cell_type": "code",
   "execution_count": 15,
   "id": "26d98773",
   "metadata": {},
   "outputs": [],
   "source": [
    "d1 = pd.DataFrame.from_dict(score_RFR)\n",
    "d1['model']='RFR'\n",
    "d2 = pd.DataFrame.from_dict(score_XGB)\n",
    "d2['model']='XGB'\n",
    "d3 = pd.DataFrame.from_dict(score_SVR)\n",
    "d3['model']='SVR'\n",
    "d4 = pd.DataFrame.from_dict(score_KNR)\n",
    "d4['model']='KNR'\n",
    "d5 = pd.DataFrame.from_dict(score_MLP)\n",
    "d5['model']='MLP'"
   ]
  },
  {
   "cell_type": "code",
   "execution_count": 16,
   "id": "8a6cf4e0",
   "metadata": {},
   "outputs": [],
   "source": [
    "frames = [d1,d2,d3,d4,d5]\n",
    "df_scores = pd.concat(frames)"
   ]
  },
  {
   "cell_type": "code",
   "execution_count": 17,
   "id": "a2dd2459",
   "metadata": {},
   "outputs": [],
   "source": [
    "df_scores['test_MSE'] = -1*df_scores['test_MSE']\n",
    "df_scores['test_MAE'] = -1*df_scores['test_MAE']\n",
    "df_scores['test_RMSE'] = -1*df_scores['test_RMSE']"
   ]
  },
  {
   "cell_type": "code",
   "execution_count": 18,
   "id": "c8f729e2",
   "metadata": {},
   "outputs": [
    {
     "data": {
      "image/png": "[encoded data removed]",
      "text/plain": [
       "<Figure size 1080x360 with 2 Axes>"
      ]
     },
     "metadata": {
      "needs_background": "light"
     },
     "output_type": "display_data"
    }
   ],
   "source": [
    "vizualization_metrics(df_scores)"
   ]
  },
  {
   "cell_type": "code",
   "execution_count": 46,
   "id": "bf841ccd",
   "metadata": {},
   "outputs": [
    {
     "name": "stdout",
     "output_type": "stream",
     "text": [
      "KNR\n",
      "MSE: 0.789, STD: 0.146\n",
      "RFR\n",
      "MSE: 0.700, STD: 0.134\n",
      "SVR\n",
      "MSE: 0.685, STD: 0.128\n",
      "XGB\n",
      "MSE: 0.717, STD: 0.147\n"
     ]
    }
   ],
   "source": [
    "bases_all = [('KNR',KNR), ('RFR',RFR), ('SVR',SV), ('XGB',XGB)] #, ('MLP',MLP)\n",
    "mse_models = []\n",
    "std_models = []\n",
    "for base in bases_all:\n",
    "    print(base[0])\n",
    "    cross_model = cross_val_score(base[1], x, y_bin, scoring='neg_mean_squared_error', cv=10)\n",
    "    print(\"MSE: %0.3f, STD: %0.3f\" % (-cross_model.mean(), cross_model.std()))\n",
    "    mse_models.append(-cross_model.mean())\n",
    "    std_models.append(cross_model.std())"
   ]
  },
  {
   "cell_type": "code",
   "execution_count": 47,
   "id": "9385b5e1",
   "metadata": {},
   "outputs": [
    {
     "data": {
      "text/html": [
       "<div>\n",
       "<style scoped>\n",
       "    .dataframe tbody tr th:only-of-type {\n",
       "        vertical-align: middle;\n",
       "    }\n",
       "\n",
       "    .dataframe tbody tr th {\n",
       "        vertical-align: top;\n",
       "    }\n",
       "\n",
       "    .dataframe thead th {\n",
       "        text-align: right;\n",
       "    }\n",
       "</style>\n",
       "<table border=\"1\" class=\"dataframe\">\n",
       "  <thead>\n",
       "    <tr style=\"text-align: right;\">\n",
       "      <th></th>\n",
       "      <th>MODEL</th>\n",
       "      <th>MSE</th>\n",
       "      <th>STD</th>\n",
       "    </tr>\n",
       "  </thead>\n",
       "  <tbody>\n",
       "    <tr>\n",
       "      <th>2</th>\n",
       "      <td>SVR</td>\n",
       "      <td>0.685232</td>\n",
       "      <td>0.127521</td>\n",
       "    </tr>\n",
       "    <tr>\n",
       "      <th>1</th>\n",
       "      <td>RFR</td>\n",
       "      <td>0.699929</td>\n",
       "      <td>0.134300</td>\n",
       "    </tr>\n",
       "    <tr>\n",
       "      <th>3</th>\n",
       "      <td>XGB</td>\n",
       "      <td>0.717096</td>\n",
       "      <td>0.147209</td>\n",
       "    </tr>\n",
       "    <tr>\n",
       "      <th>0</th>\n",
       "      <td>KNR</td>\n",
       "      <td>0.789261</td>\n",
       "      <td>0.145815</td>\n",
       "    </tr>\n",
       "  </tbody>\n",
       "</table>\n",
       "</div>"
      ],
      "text/plain": [
       "  MODEL       MSE       STD\n",
       "2   SVR  0.685232  0.127521\n",
       "1   RFR  0.699929  0.134300\n",
       "3   XGB  0.717096  0.147209\n",
       "0   KNR  0.789261  0.145815"
      ]
     },
     "execution_count": 47,
     "metadata": {},
     "output_type": "execute_result"
    }
   ],
   "source": [
    "MSE_models_no_opt = pd.DataFrame(zip(names, mse_models, std_models), columns=['MODEL', 'MSE', 'STD']).sort_values(['MSE'])\n",
    "MSE_models_no_opt"
   ]
  },
  {
   "cell_type": "code",
   "execution_count": 48,
   "id": "b954d720",
   "metadata": {},
   "outputs": [],
   "source": [
    "MSE_models_no_opt.to_csv('df_models_out.txt', index=None, sep=' ', mode='a')"
   ]
  },
  {
   "cell_type": "markdown",
   "id": "e81b5fd2",
   "metadata": {},
   "source": [
    "### Steps"
   ]
  },
  {
   "cell_type": "code",
   "execution_count": 23,
   "id": "75365122",
   "metadata": {},
   "outputs": [],
   "source": [
    "score_RFR_ste = cross_scoring(RFR, x, y_ste)\n",
    "score_XGB_ste = cross_scoring(XGB, x, y_ste)\n",
    "score_SVR_ste = cross_scoring(SV, x, y_ste)\n",
    "score_KNR_ste = cross_scoring(KNR, x, y_ste)\n",
    "score_MLP_ste = cross_scoring(MLP, x, y_ste)"
   ]
  },
  {
   "cell_type": "code",
   "execution_count": 24,
   "id": "2f7eb8e5",
   "metadata": {},
   "outputs": [],
   "source": [
    "d1 = pd.DataFrame.from_dict(score_RFR_ste)\n",
    "d1['model']='RFR'\n",
    "d2 = pd.DataFrame.from_dict(score_XGB_ste)\n",
    "d2['model']='XGB'\n",
    "d3 = pd.DataFrame.from_dict(score_SVR_ste)\n",
    "d3['model']='SVR'\n",
    "d4 = pd.DataFrame.from_dict(score_KNR_ste)\n",
    "d4['model']='KNR'\n",
    "d5 = pd.DataFrame.from_dict(score_MLP_ste)\n",
    "d5['model']='MLP'"
   ]
  },
  {
   "cell_type": "code",
   "execution_count": 25,
   "id": "afc18e4a",
   "metadata": {},
   "outputs": [],
   "source": [
    "frames = [d1,d2,d3,d4,d5]\n",
    "df_scores_ste = pd.concat(frames)\n",
    "df_scores_ste['test_MSE'] = -1*df_scores_ste['test_MSE']\n",
    "df_scores_ste['test_MAE'] = -1*df_scores_ste['test_MAE']\n",
    "df_scores_ste['test_RMSE'] = -1*df_scores_ste['test_RMSE']"
   ]
  },
  {
   "cell_type": "code",
   "execution_count": 26,
   "id": "fcccbbda",
   "metadata": {},
   "outputs": [
    {
     "data": {
      "image/png": "[encoded data removed]",
      "text/plain": [
       "<Figure size 1080x360 with 2 Axes>"
      ]
     },
     "metadata": {
      "needs_background": "light"
     },
     "output_type": "display_data"
    }
   ],
   "source": [
    "vizualization_metrics(df_scores_ste)"
   ]
  },
  {
   "cell_type": "code",
   "execution_count": 49,
   "id": "1eb84d7e",
   "metadata": {},
   "outputs": [
    {
     "name": "stdout",
     "output_type": "stream",
     "text": [
      "KNR\n",
      "MSE: 5.199, STD: 1.961\n",
      "RFR\n",
      "MSE: 4.615, STD: 1.758\n",
      "SVR\n",
      "MSE: 4.617, STD: 1.716\n",
      "XGB\n",
      "MSE: 4.752, STD: 1.856\n"
     ]
    }
   ],
   "source": [
    "mse_models_steps = []\n",
    "std_models_steps = []\n",
    "for base in bases_all:\n",
    "    print(base[0])\n",
    "    cross_model = cross_val_score(base[1], x, y_ste, scoring='neg_mean_squared_error', cv=10)\n",
    "    print(\"MSE: %0.3f, STD: %0.3f\" % (-cross_model.mean(), cross_model.std()))\n",
    "    mse_models_steps.append(-cross_model.mean())\n",
    "    std_models_steps.append(cross_model.std())"
   ]
  },
  {
   "cell_type": "code",
   "execution_count": 50,
   "id": "908d738c",
   "metadata": {},
   "outputs": [
    {
     "data": {
      "text/html": [
       "<div>\n",
       "<style scoped>\n",
       "    .dataframe tbody tr th:only-of-type {\n",
       "        vertical-align: middle;\n",
       "    }\n",
       "\n",
       "    .dataframe tbody tr th {\n",
       "        vertical-align: top;\n",
       "    }\n",
       "\n",
       "    .dataframe thead th {\n",
       "        text-align: right;\n",
       "    }\n",
       "</style>\n",
       "<table border=\"1\" class=\"dataframe\">\n",
       "  <thead>\n",
       "    <tr style=\"text-align: right;\">\n",
       "      <th></th>\n",
       "      <th>MODEL</th>\n",
       "      <th>MSE</th>\n",
       "      <th>STD</th>\n",
       "    </tr>\n",
       "  </thead>\n",
       "  <tbody>\n",
       "    <tr>\n",
       "      <th>1</th>\n",
       "      <td>RFR</td>\n",
       "      <td>4.615319</td>\n",
       "      <td>1.757502</td>\n",
       "    </tr>\n",
       "    <tr>\n",
       "      <th>2</th>\n",
       "      <td>SVR</td>\n",
       "      <td>4.616831</td>\n",
       "      <td>1.715511</td>\n",
       "    </tr>\n",
       "    <tr>\n",
       "      <th>3</th>\n",
       "      <td>XGB</td>\n",
       "      <td>4.752484</td>\n",
       "      <td>1.855658</td>\n",
       "    </tr>\n",
       "    <tr>\n",
       "      <th>0</th>\n",
       "      <td>KNR</td>\n",
       "      <td>5.199048</td>\n",
       "      <td>1.961407</td>\n",
       "    </tr>\n",
       "  </tbody>\n",
       "</table>\n",
       "</div>"
      ],
      "text/plain": [
       "  MODEL       MSE       STD\n",
       "1   RFR  4.615319  1.757502\n",
       "2   SVR  4.616831  1.715511\n",
       "3   XGB  4.752484  1.855658\n",
       "0   KNR  5.199048  1.961407"
      ]
     },
     "execution_count": 50,
     "metadata": {},
     "output_type": "execute_result"
    }
   ],
   "source": [
    "MSE_models_no_opt_ste = pd.DataFrame(zip(names, mse_models_steps, std_models_steps), \n",
    "                                     columns=['MODEL', 'MSE', 'STD']).sort_values(['MSE'])\n",
    "MSE_models_no_opt_ste"
   ]
  },
  {
   "cell_type": "code",
   "execution_count": 51,
   "id": "5d04ee7f",
   "metadata": {},
   "outputs": [],
   "source": [
    "MSE_models_no_opt_ste.to_csv('df_models_steps_out.txt', index=None, sep=' ', mode='a')"
   ]
  },
  {
   "cell_type": "markdown",
   "id": "19fd15c7",
   "metadata": {},
   "source": [
    "# Hyperparametric optimization"
   ]
  },
  {
   "cell_type": "markdown",
   "id": "76dc4830",
   "metadata": {},
   "source": [
    "### Groups"
   ]
  },
  {
   "cell_type": "code",
   "execution_count": 29,
   "id": "0f844ec4",
   "metadata": {},
   "outputs": [
    {
     "name": "stdout",
     "output_type": "stream",
     "text": [
      "Best MSE: 0.699\n",
      "Best Hyperparameters: {'algorithm': 'auto', 'n_neighbors': 20, 'p': 2, 'weights': 'distance'}\n",
      "0.245 min\n",
      "Best STD: 0.1294\n"
     ]
    }
   ],
   "source": [
    "#KNR\n",
    "start = time.time()\n",
    "params = {'n_neighbors' : [10, 15, 20], \n",
    "          'weights': ['uniform', 'distance'], \n",
    "          'p':[1,2],\n",
    "          'algorithm' : ['auto', 'ball_tree', 'kd_tree', 'brute']}\n",
    "search = GridSearchCV(KNR, params, scoring='neg_mean_squared_error', n_jobs=-1, cv=10)\n",
    "results_KNR = search.fit(x, y_bin)\n",
    "print('Best MSE: %0.3f' % -results_KNR.best_score_)\n",
    "print('Best Hyperparameters: %s' % results_KNR.best_params_) #sorted(clf.cv_results_.keys())\n",
    "print(\"%0.3f min\"%((time.time()-start)/60))\n",
    "knr_std = return_std(results_KNR)"
   ]
  },
  {
   "cell_type": "code",
   "execution_count": 30,
   "id": "682915fd",
   "metadata": {},
   "outputs": [
    {
     "name": "stdout",
     "output_type": "stream",
     "text": [
      "Best MSE: 0.677\n",
      "Best Hyperparameters: {'max_depth': 8, 'n_estimators': 300}\n",
      "2.172 min\n",
      "Best STD: 0.1328\n"
     ]
    }
   ],
   "source": [
    "#RFR\n",
    "start = time.time()\n",
    "params = { 'max_depth': [5, 8, 15, 20],\n",
    "           'n_estimators': [50, 100, 300, 400]}\n",
    "search = GridSearchCV(RFR, params,scoring='neg_mean_squared_error', n_jobs=-1, cv=10)\n",
    "results_RFR = search.fit(x, y_bin)\n",
    "print('Best MSE: %0.3f' % -results_RFR.best_score_)\n",
    "print('Best Hyperparameters: %s' % results_RFR.best_params_)\n",
    "print(\"%0.3f min\"%((time.time()-start)/60))\n",
    "rfr_std = return_std(results_RFR)"
   ]
  },
  {
   "cell_type": "code",
   "execution_count": 31,
   "id": "f8351eda",
   "metadata": {},
   "outputs": [
    {
     "name": "stdout",
     "output_type": "stream",
     "text": [
      "Best MSE: 0.678\n",
      "Best Hyperparameters: {'C': 0.1, 'epsilon': 0.1}\n",
      "2.665 min\n",
      "Best STD: 0.1260\n"
     ]
    }
   ],
   "source": [
    "#SVR\n",
    "start = time.time()\n",
    "params = {'C': [0.01, 0.1, 1.0, 5], \n",
    "          'epsilon': [0.01, 0.1, 0.5, 1.0, 5.0]} \n",
    "search = GridSearchCV(SV, params, scoring='neg_mean_squared_error', n_jobs=-1, cv=10)\n",
    "results_SVR = search.fit(x, y_bin)\n",
    "print('Best MSE: %0.3f' % -results_SVR.best_score_)\n",
    "print('Best Hyperparameters: %s' % results_SVR.best_params_)\n",
    "print(\"%0.3f min\"%((time.time()-start)/60))\n",
    "svr_std = return_std(results_SVR)"
   ]
  },
  {
   "cell_type": "code",
   "execution_count": 32,
   "id": "d5ded901",
   "metadata": {},
   "outputs": [
    {
     "name": "stdout",
     "output_type": "stream",
     "text": [
      "Best MSE: 0.676\n",
      "Best Hyperparameters: {'learning_rate': 0.1, 'max_depth': 6, 'n_estimators': 50}\n",
      "20.621 min\n",
      "Best STD: 0.1322\n"
     ]
    }
   ],
   "source": [
    "#XGB\n",
    "start = time.time()\n",
    "params = { 'max_depth': [3, 6, 10], \n",
    "           'learning_rate': [0.01, 0.1, 0.5],\n",
    "           'n_estimators': [50, 75, 100]}\n",
    "search = GridSearchCV(XGB, params, scoring='neg_mean_squared_error', n_jobs=-1, cv=10)\n",
    "results_XGB = search.fit(x, y_bin)\n",
    "print('Best MSE: %0.3f' % -results_XGB.best_score_)\n",
    "print('Best Hyperparameters: %s' % results_XGB.best_params_)\n",
    "print(\"%0.3f min\"%((time.time()-start)/60))\n",
    "xgb_std = return_std(results_XGB)"
   ]
  },
  {
   "cell_type": "code",
   "execution_count": 295,
   "id": "f29e05b2",
   "metadata": {},
   "outputs": [
    {
     "name": "stdout",
     "output_type": "stream",
     "text": [
      "Best MSE: 0.652\n",
      "Best Hyperparameters: {'hidden_layer_sizes': (16, 8)}\n",
      "2.503 min\n",
      "Best STD: 0.1121\n"
     ]
    }
   ],
   "source": [
    "#MLP\n",
    "neurons = (8, 12, 16)\n",
    "layers = []\n",
    "for i in range(1,4):\n",
    "    layers = layers +[x for x in itertools.product(neurons,repeat=i)]\n",
    "    \n",
    "start = time.time()\n",
    "params = {'hidden_layer_sizes': layers}\n",
    "search = GridSearchCV(MLP, params, scoring='neg_mean_squared_error', n_jobs=-1, cv=10)\n",
    "results_MLP = search.fit(x, y_bin)\n",
    "print('Best MSE: %0.3f' % -results_MLP.best_score_)\n",
    "print('Best Hyperparameters: %s' % results_MLP.best_params_)\n",
    "print(\"%0.3f min\"%((time.time()-start)/60))\n",
    "mlp_std = return_std(results_MLP)"
   ]
  },
  {
   "cell_type": "markdown",
   "id": "a884f313",
   "metadata": {},
   "source": [
    "- ALL"
   ]
  },
  {
   "cell_type": "code",
   "execution_count": 34,
   "id": "6130b35c",
   "metadata": {},
   "outputs": [
    {
     "data": {
      "text/html": [
       "<div>\n",
       "<style scoped>\n",
       "    .dataframe tbody tr th:only-of-type {\n",
       "        vertical-align: middle;\n",
       "    }\n",
       "\n",
       "    .dataframe tbody tr th {\n",
       "        vertical-align: top;\n",
       "    }\n",
       "\n",
       "    .dataframe thead th {\n",
       "        text-align: right;\n",
       "    }\n",
       "</style>\n",
       "<table border=\"1\" class=\"dataframe\">\n",
       "  <thead>\n",
       "    <tr style=\"text-align: right;\">\n",
       "      <th></th>\n",
       "      <th>MODEL</th>\n",
       "      <th>MSE</th>\n",
       "      <th>STD</th>\n",
       "    </tr>\n",
       "  </thead>\n",
       "  <tbody>\n",
       "    <tr>\n",
       "      <th>3</th>\n",
       "      <td>XGB</td>\n",
       "      <td>0.675538</td>\n",
       "      <td>0.132249</td>\n",
       "    </tr>\n",
       "    <tr>\n",
       "      <th>1</th>\n",
       "      <td>RFR</td>\n",
       "      <td>0.677155</td>\n",
       "      <td>0.132793</td>\n",
       "    </tr>\n",
       "    <tr>\n",
       "      <th>2</th>\n",
       "      <td>SVR</td>\n",
       "      <td>0.677733</td>\n",
       "      <td>0.125969</td>\n",
       "    </tr>\n",
       "    <tr>\n",
       "      <th>0</th>\n",
       "      <td>KNR</td>\n",
       "      <td>0.699461</td>\n",
       "      <td>0.129362</td>\n",
       "    </tr>\n",
       "  </tbody>\n",
       "</table>\n",
       "</div>"
      ],
      "text/plain": [
       "  MODEL       MSE       STD\n",
       "3   XGB  0.675538  0.132249\n",
       "1   RFR  0.677155  0.132793\n",
       "2   SVR  0.677733  0.125969\n",
       "0   KNR  0.699461  0.129362"
      ]
     },
     "execution_count": 34,
     "metadata": {},
     "output_type": "execute_result"
    }
   ],
   "source": [
    "mse_all = [-results_KNR.best_score_, -results_RFR.best_score_, -results_SVR.best_score_,\n",
    "          -results_XGB.best_score_] #, -results_MLP.best_score_\n",
    "std_all = [knr_std,  rfr_std, svr_std, xgb_std]\n",
    "MSE_models = pd.DataFrame(zip(names, mse_all, std_all), columns=['MODEL', 'MSE', 'STD']).sort_values(['MSE'])\n",
    "MSE_models"
   ]
  },
  {
   "cell_type": "code",
   "execution_count": 35,
   "id": "739c77e2",
   "metadata": {},
   "outputs": [
    {
     "data": {
      "image/png": "[encoded data removed]",
      "text/plain": [
       "<Figure size 432x288 with 1 Axes>"
      ]
     },
     "metadata": {
      "needs_background": "light"
     },
     "output_type": "display_data"
    }
   ],
   "source": [
    "g = sns.barplot(x='MODEL', y='MSE', data=MSE_models)"
   ]
  },
  {
   "cell_type": "code",
   "execution_count": 36,
   "id": "b054eee9",
   "metadata": {},
   "outputs": [
    {
     "data": {
      "image/png": "[encoded data removed]",
      "text/plain": [
       "<Figure size 432x288 with 1 Axes>"
      ]
     },
     "metadata": {
      "needs_background": "light"
     },
     "output_type": "display_data"
    }
   ],
   "source": [
    "g = sns.barplot(x='MODEL', y='STD', data=MSE_models)"
   ]
  },
  {
   "cell_type": "code",
   "execution_count": 37,
   "id": "b47741eb",
   "metadata": {},
   "outputs": [],
   "source": [
    "MSE_models.to_csv('df_optimized_models_out.txt', index=None, sep=' ', mode='a')"
   ]
  },
  {
   "cell_type": "markdown",
   "id": "76833bfa",
   "metadata": {},
   "source": [
    "### Steps"
   ]
  },
  {
   "cell_type": "code",
   "execution_count": 38,
   "id": "6ca08c46",
   "metadata": {},
   "outputs": [
    {
     "name": "stdout",
     "output_type": "stream",
     "text": [
      "Best MSE: 4.547\n",
      "Best Hyperparameters: {'algorithm': 'auto', 'n_neighbors': 50, 'p': 2, 'weights': 'distance'}\n",
      "0.364 min\n",
      "Best STD: 1.7361\n"
     ]
    }
   ],
   "source": [
    "#KNR\n",
    "start = time.time()\n",
    "params = {'n_neighbors' : [15, 25, 50, 75], \n",
    "          'weights': ['uniform', 'distance'], \n",
    "          'p':[1,2],\n",
    "          'algorithm' : ['auto', 'ball_tree', 'kd_tree', 'brute']}\n",
    "search = GridSearchCV(KNR, params, scoring='neg_mean_squared_error', n_jobs=-1, cv=10)\n",
    "results_KNR_steps = search.fit(x, y_ste)\n",
    "print('Best MSE: %0.3f' % -results_KNR_steps.best_score_)\n",
    "print('Best Hyperparameters: %s' % results_KNR_steps.best_params_) \n",
    "print(\"%0.3f min\"%((time.time()-start)/60))\n",
    "knr_std_steps = return_std(results_KNR_steps)"
   ]
  },
  {
   "cell_type": "code",
   "execution_count": 39,
   "id": "90f185af",
   "metadata": {},
   "outputs": [
    {
     "name": "stdout",
     "output_type": "stream",
     "text": [
      "Best MSE: 4.462\n",
      "Best Hyperparameters: {'max_depth': 8, 'n_estimators': 300}\n",
      "2.212 min\n",
      "Best STD: 1.7083\n"
     ]
    }
   ],
   "source": [
    "#RFR\n",
    "start = time.time()\n",
    "params = { 'max_depth': [5, 8, 15, 20],\n",
    "           'n_estimators': [50, 100, 300, 400]}\n",
    "search = GridSearchCV(RFR, params,scoring='neg_mean_squared_error', n_jobs=-1, cv=10)\n",
    "results_RFR_steps = search.fit(x, y_ste)\n",
    "print('Best MSE: %0.3f' % -results_RFR_steps.best_score_)\n",
    "print('Best Hyperparameters: %s' % results_RFR_steps.best_params_)\n",
    "print(\"%0.3f min\"%((time.time()-start)/60))\n",
    "rfr_std_steps = return_std(results_RFR_steps)"
   ]
  },
  {
   "cell_type": "code",
   "execution_count": 40,
   "id": "b6f04905",
   "metadata": {},
   "outputs": [
    {
     "name": "stdout",
     "output_type": "stream",
     "text": [
      "Best MSE: 4.509\n",
      "Best Hyperparameters: {'C': 1.0, 'epsilon': 1.0}\n",
      "2.888 min\n",
      "Best STD: 1.6980\n"
     ]
    }
   ],
   "source": [
    "#SVR\n",
    "start = time.time()\n",
    "params = {'C': [0.01, 0.1, 1.0, 5], \n",
    "          'epsilon': [0.01, 0.1, 0.5, 1.0, 5.0]} \n",
    "search = GridSearchCV(SV, params, scoring='neg_mean_squared_error', n_jobs=-1, cv=10)\n",
    "results_SVR_steps = search.fit(x, y_ste)\n",
    "print('Best MSE: %0.3f' % -results_SVR_steps.best_score_)\n",
    "print('Best Hyperparameters: %s' % results_SVR_steps.best_params_)\n",
    "print(\"%0.3f min\"%((time.time()-start)/60))\n",
    "svr_std_steps = return_std(results_SVR_steps)"
   ]
  },
  {
   "cell_type": "code",
   "execution_count": 41,
   "id": "2a29eb3c",
   "metadata": {},
   "outputs": [
    {
     "name": "stdout",
     "output_type": "stream",
     "text": [
      "Best MSE: 4.498\n",
      "Best Hyperparameters: {'learning_rate': 0.1, 'max_depth': 6, 'n_estimators': 30}\n",
      "5.292 min\n",
      "Best STD: 1.7314\n"
     ]
    }
   ],
   "source": [
    "#XGB\n",
    "start = time.time()\n",
    "params = { 'max_depth': [3, 6, 9],\n",
    "           'learning_rate': [0.01, 0.1, 0.5],\n",
    "           'n_estimators': [10, 20, 30]} # 'colsample_bytree': [0.4, 0.8, 1]\n",
    "search = GridSearchCV(XGB, params, scoring='neg_mean_squared_error', n_jobs=-1, cv=10)\n",
    "results_XGB_steps = search.fit(x, y_ste)\n",
    "print('Best MSE: %0.3f' % -results_XGB_steps.best_score_)\n",
    "print('Best Hyperparameters: %s' % results_XGB_steps.best_params_)\n",
    "print(\"%0.3f min\"%((time.time()-start)/60))\n",
    "xgb_std_steps = return_std(results_XGB_steps)\n",
    "# mse 4.786904, std 1.750987"
   ]
  },
  {
   "cell_type": "markdown",
   "id": "03bdc5d9",
   "metadata": {},
   "source": [
    "- ALL"
   ]
  },
  {
   "cell_type": "code",
   "execution_count": 42,
   "id": "4b2d54f9",
   "metadata": {},
   "outputs": [
    {
     "data": {
      "text/html": [
       "<div>\n",
       "<style scoped>\n",
       "    .dataframe tbody tr th:only-of-type {\n",
       "        vertical-align: middle;\n",
       "    }\n",
       "\n",
       "    .dataframe tbody tr th {\n",
       "        vertical-align: top;\n",
       "    }\n",
       "\n",
       "    .dataframe thead th {\n",
       "        text-align: right;\n",
       "    }\n",
       "</style>\n",
       "<table border=\"1\" class=\"dataframe\">\n",
       "  <thead>\n",
       "    <tr style=\"text-align: right;\">\n",
       "      <th></th>\n",
       "      <th>MODEL</th>\n",
       "      <th>MSE</th>\n",
       "      <th>STD</th>\n",
       "    </tr>\n",
       "  </thead>\n",
       "  <tbody>\n",
       "    <tr>\n",
       "      <th>1</th>\n",
       "      <td>RFR</td>\n",
       "      <td>4.462093</td>\n",
       "      <td>1.708304</td>\n",
       "    </tr>\n",
       "    <tr>\n",
       "      <th>3</th>\n",
       "      <td>XGB</td>\n",
       "      <td>4.498328</td>\n",
       "      <td>1.731417</td>\n",
       "    </tr>\n",
       "    <tr>\n",
       "      <th>2</th>\n",
       "      <td>SVR</td>\n",
       "      <td>4.509397</td>\n",
       "      <td>1.698026</td>\n",
       "    </tr>\n",
       "    <tr>\n",
       "      <th>0</th>\n",
       "      <td>KNR</td>\n",
       "      <td>4.547392</td>\n",
       "      <td>1.736121</td>\n",
       "    </tr>\n",
       "  </tbody>\n",
       "</table>\n",
       "</div>"
      ],
      "text/plain": [
       "  MODEL       MSE       STD\n",
       "1   RFR  4.462093  1.708304\n",
       "3   XGB  4.498328  1.731417\n",
       "2   SVR  4.509397  1.698026\n",
       "0   KNR  4.547392  1.736121"
      ]
     },
     "execution_count": 42,
     "metadata": {},
     "output_type": "execute_result"
    }
   ],
   "source": [
    "mse_all_steps = [-results_KNR_steps.best_score_, -results_RFR_steps.best_score_, -results_SVR_steps.best_score_,\n",
    "                -results_XGB_steps.best_score_]\n",
    "std_all_steps = [knr_std_steps,  rfr_std_steps, svr_std_steps, xgb_std_steps]\n",
    "MSE_models_steps = pd.DataFrame(zip(names, mse_all_steps, std_all_steps), columns=['MODEL', 'MSE', 'STD']).sort_values(['MSE'])\n",
    "MSE_models_steps"
   ]
  },
  {
   "cell_type": "code",
   "execution_count": 43,
   "id": "550fc7bc",
   "metadata": {},
   "outputs": [
    {
     "data": {
      "image/png": "[encoded data removed]",
      "text/plain": [
       "<Figure size 432x288 with 1 Axes>"
      ]
     },
     "metadata": {
      "needs_background": "light"
     },
     "output_type": "display_data"
    }
   ],
   "source": [
    "g = sns.barplot(x='MODEL', y='MSE', data=MSE_models_steps)"
   ]
  },
  {
   "cell_type": "code",
   "execution_count": 44,
   "id": "b7546e78",
   "metadata": {},
   "outputs": [
    {
     "data": {
      "image/png": "[encoded data removed]",
      "text/plain": [
       "<Figure size 432x288 with 1 Axes>"
      ]
     },
     "metadata": {
      "needs_background": "light"
     },
     "output_type": "display_data"
    }
   ],
   "source": [
    "g = sns.barplot(x='MODEL', y='STD', data=MSE_models_steps)"
   ]
  },
  {
   "cell_type": "code",
   "execution_count": 45,
   "id": "c610e901",
   "metadata": {},
   "outputs": [],
   "source": [
    "MSE_models_steps.to_csv('df_optimized_models_steps_out.txt', index=None, sep=' ', mode='a')"
   ]
  },
  {
   "cell_type": "markdown",
   "id": "ada58f5f",
   "metadata": {},
   "source": [
    "# Group"
   ]
  },
  {
   "cell_type": "code",
   "execution_count": 53,
   "id": "265bbb9a",
   "metadata": {},
   "outputs": [],
   "source": [
    "MSE_models_no_opt = pd.read_csv('df_models_out.txt', sep=' ')\n",
    "MSE_models = pd.read_csv('df_optimized_models_out.txt', sep=' ')"
   ]
  },
  {
   "cell_type": "code",
   "execution_count": 54,
   "id": "881684ee",
   "metadata": {},
   "outputs": [],
   "source": [
    "MSE_models['opt'] = 'optimized'\n",
    "MSE_models_no_opt['opt'] = 'non-optimized'\n",
    "frames = [MSE_models, MSE_models_no_opt]\n",
    "df_models = pd.concat(frames)"
   ]
  },
  {
   "cell_type": "code",
   "execution_count": 55,
   "id": "4ebaa5e0",
   "metadata": {},
   "outputs": [
    {
     "data": {
      "text/html": [
       "<div>\n",
       "<style scoped>\n",
       "    .dataframe tbody tr th:only-of-type {\n",
       "        vertical-align: middle;\n",
       "    }\n",
       "\n",
       "    .dataframe tbody tr th {\n",
       "        vertical-align: top;\n",
       "    }\n",
       "\n",
       "    .dataframe thead th {\n",
       "        text-align: right;\n",
       "    }\n",
       "</style>\n",
       "<table border=\"1\" class=\"dataframe\">\n",
       "  <thead>\n",
       "    <tr style=\"text-align: right;\">\n",
       "      <th></th>\n",
       "      <th>MODEL</th>\n",
       "      <th>MSE</th>\n",
       "      <th>STD</th>\n",
       "      <th>opt</th>\n",
       "    </tr>\n",
       "  </thead>\n",
       "  <tbody>\n",
       "    <tr>\n",
       "      <th>0</th>\n",
       "      <td>XGB</td>\n",
       "      <td>0.675538</td>\n",
       "      <td>0.132249</td>\n",
       "      <td>optimized</td>\n",
       "    </tr>\n",
       "    <tr>\n",
       "      <th>1</th>\n",
       "      <td>RFR</td>\n",
       "      <td>0.677155</td>\n",
       "      <td>0.132793</td>\n",
       "      <td>optimized</td>\n",
       "    </tr>\n",
       "    <tr>\n",
       "      <th>2</th>\n",
       "      <td>SVR</td>\n",
       "      <td>0.677733</td>\n",
       "      <td>0.125969</td>\n",
       "      <td>optimized</td>\n",
       "    </tr>\n",
       "    <tr>\n",
       "      <th>3</th>\n",
       "      <td>KNR</td>\n",
       "      <td>0.699461</td>\n",
       "      <td>0.129362</td>\n",
       "      <td>optimized</td>\n",
       "    </tr>\n",
       "    <tr>\n",
       "      <th>0</th>\n",
       "      <td>SVR</td>\n",
       "      <td>0.685232</td>\n",
       "      <td>0.127521</td>\n",
       "      <td>non-optimized</td>\n",
       "    </tr>\n",
       "    <tr>\n",
       "      <th>1</th>\n",
       "      <td>RFR</td>\n",
       "      <td>0.699929</td>\n",
       "      <td>0.134300</td>\n",
       "      <td>non-optimized</td>\n",
       "    </tr>\n",
       "    <tr>\n",
       "      <th>2</th>\n",
       "      <td>XGB</td>\n",
       "      <td>0.717096</td>\n",
       "      <td>0.147209</td>\n",
       "      <td>non-optimized</td>\n",
       "    </tr>\n",
       "    <tr>\n",
       "      <th>3</th>\n",
       "      <td>KNR</td>\n",
       "      <td>0.789261</td>\n",
       "      <td>0.145815</td>\n",
       "      <td>non-optimized</td>\n",
       "    </tr>\n",
       "  </tbody>\n",
       "</table>\n",
       "</div>"
      ],
      "text/plain": [
       "  MODEL       MSE       STD            opt\n",
       "0   XGB  0.675538  0.132249      optimized\n",
       "1   RFR  0.677155  0.132793      optimized\n",
       "2   SVR  0.677733  0.125969      optimized\n",
       "3   KNR  0.699461  0.129362      optimized\n",
       "0   SVR  0.685232  0.127521  non-optimized\n",
       "1   RFR  0.699929  0.134300  non-optimized\n",
       "2   XGB  0.717096  0.147209  non-optimized\n",
       "3   KNR  0.789261  0.145815  non-optimized"
      ]
     },
     "execution_count": 55,
     "metadata": {},
     "output_type": "execute_result"
    }
   ],
   "source": [
    "df_models"
   ]
  },
  {
   "cell_type": "code",
   "execution_count": 56,
   "id": "f64a427c",
   "metadata": {},
   "outputs": [
    {
     "data": {
      "text/plain": [
       "<matplotlib.legend.Legend at 0x7f1ac5e29a30>"
      ]
     },
     "execution_count": 56,
     "metadata": {},
     "output_type": "execute_result"
    },
    {
     "data": {
      "image/png": "[encoded data removed]",
      "text/plain": [
       "<Figure size 432x288 with 1 Axes>"
      ]
     },
     "metadata": {
      "needs_background": "light"
     },
     "output_type": "display_data"
    }
   ],
   "source": [
    "#sns.set(rc={'figure.figsize':(10,4)})\n",
    "color2 = ['#7BDDFF', 'grey']\n",
    "ax = sns.barplot(x=\"MSE\", y=\"MODEL\", hue=\"opt\", data=df_models, palette=color2) \n",
    "#plt.title('MSE of single models with optimalization and without opt.', fontsize=15)\n",
    "plt.legend(loc='lower left')"
   ]
  },
  {
   "cell_type": "code",
   "execution_count": 57,
   "id": "b92a52be",
   "metadata": {},
   "outputs": [
    {
     "data": {
      "text/plain": [
       "<matplotlib.legend.Legend at 0x7f1ac55f7a90>"
      ]
     },
     "execution_count": 57,
     "metadata": {},
     "output_type": "execute_result"
    },
    {
     "data": {
      "image/png": "[encoded data removed]",
      "text/plain": [
       "<Figure size 432x288 with 1 Axes>"
      ]
     },
     "metadata": {
      "needs_background": "light"
     },
     "output_type": "display_data"
    }
   ],
   "source": [
    "#sns.set(rc={'figure.figsize':(10,4)})\n",
    "ax = sns.barplot(x=\"STD\", y=\"MODEL\", hue=\"opt\", data=df_models, palette=color2)\n",
    "#plt.title('STD of single models with optimalization and without opt.', fontsize=15)\n",
    "plt.legend(loc='lower left')"
   ]
  },
  {
   "cell_type": "markdown",
   "id": "77f60fbd",
   "metadata": {},
   "source": [
    "# Steps"
   ]
  },
  {
   "cell_type": "code",
   "execution_count": 58,
   "id": "25b8b477",
   "metadata": {},
   "outputs": [],
   "source": [
    "MSE_models_no_opt_steps = pd.read_csv('df_models_steps_out.txt', sep=' ')\n",
    "MSE_models_steps = pd.read_csv('df_optimized_models_steps_out.txt', sep=' ')"
   ]
  },
  {
   "cell_type": "code",
   "execution_count": 59,
   "id": "2e37c298",
   "metadata": {},
   "outputs": [],
   "source": [
    "MSE_models_steps['opt'] = 'optimized'\n",
    "MSE_models_no_opt_steps['opt'] = 'non-optimized'\n",
    "frames_steps = [MSE_models_steps, MSE_models_no_opt_steps]\n",
    "df_models_steps = pd.concat(frames_steps)"
   ]
  },
  {
   "cell_type": "code",
   "execution_count": 60,
   "id": "78146b79",
   "metadata": {},
   "outputs": [
    {
     "data": {
      "text/html": [
       "<div>\n",
       "<style scoped>\n",
       "    .dataframe tbody tr th:only-of-type {\n",
       "        vertical-align: middle;\n",
       "    }\n",
       "\n",
       "    .dataframe tbody tr th {\n",
       "        vertical-align: top;\n",
       "    }\n",
       "\n",
       "    .dataframe thead th {\n",
       "        text-align: right;\n",
       "    }\n",
       "</style>\n",
       "<table border=\"1\" class=\"dataframe\">\n",
       "  <thead>\n",
       "    <tr style=\"text-align: right;\">\n",
       "      <th></th>\n",
       "      <th>MODEL</th>\n",
       "      <th>MSE</th>\n",
       "      <th>STD</th>\n",
       "      <th>opt</th>\n",
       "    </tr>\n",
       "  </thead>\n",
       "  <tbody>\n",
       "    <tr>\n",
       "      <th>0</th>\n",
       "      <td>RFR</td>\n",
       "      <td>4.462093</td>\n",
       "      <td>1.708304</td>\n",
       "      <td>optimized</td>\n",
       "    </tr>\n",
       "    <tr>\n",
       "      <th>1</th>\n",
       "      <td>XGB</td>\n",
       "      <td>4.498328</td>\n",
       "      <td>1.731417</td>\n",
       "      <td>optimized</td>\n",
       "    </tr>\n",
       "    <tr>\n",
       "      <th>2</th>\n",
       "      <td>SVR</td>\n",
       "      <td>4.509397</td>\n",
       "      <td>1.698026</td>\n",
       "      <td>optimized</td>\n",
       "    </tr>\n",
       "    <tr>\n",
       "      <th>3</th>\n",
       "      <td>KNR</td>\n",
       "      <td>4.547392</td>\n",
       "      <td>1.736121</td>\n",
       "      <td>optimized</td>\n",
       "    </tr>\n",
       "    <tr>\n",
       "      <th>0</th>\n",
       "      <td>RFR</td>\n",
       "      <td>4.615319</td>\n",
       "      <td>1.757502</td>\n",
       "      <td>non-optimized</td>\n",
       "    </tr>\n",
       "    <tr>\n",
       "      <th>1</th>\n",
       "      <td>SVR</td>\n",
       "      <td>4.616831</td>\n",
       "      <td>1.715511</td>\n",
       "      <td>non-optimized</td>\n",
       "    </tr>\n",
       "    <tr>\n",
       "      <th>2</th>\n",
       "      <td>XGB</td>\n",
       "      <td>4.752484</td>\n",
       "      <td>1.855658</td>\n",
       "      <td>non-optimized</td>\n",
       "    </tr>\n",
       "    <tr>\n",
       "      <th>3</th>\n",
       "      <td>KNR</td>\n",
       "      <td>5.199048</td>\n",
       "      <td>1.961407</td>\n",
       "      <td>non-optimized</td>\n",
       "    </tr>\n",
       "  </tbody>\n",
       "</table>\n",
       "</div>"
      ],
      "text/plain": [
       "  MODEL       MSE       STD            opt\n",
       "0   RFR  4.462093  1.708304      optimized\n",
       "1   XGB  4.498328  1.731417      optimized\n",
       "2   SVR  4.509397  1.698026      optimized\n",
       "3   KNR  4.547392  1.736121      optimized\n",
       "0   RFR  4.615319  1.757502  non-optimized\n",
       "1   SVR  4.616831  1.715511  non-optimized\n",
       "2   XGB  4.752484  1.855658  non-optimized\n",
       "3   KNR  5.199048  1.961407  non-optimized"
      ]
     },
     "execution_count": 60,
     "metadata": {},
     "output_type": "execute_result"
    }
   ],
   "source": [
    "df_models_steps"
   ]
  },
  {
   "cell_type": "code",
   "execution_count": 61,
   "id": "c206ab61",
   "metadata": {},
   "outputs": [
    {
     "data": {
      "text/plain": [
       "<matplotlib.legend.Legend at 0x7f1ac557a760>"
      ]
     },
     "execution_count": 61,
     "metadata": {},
     "output_type": "execute_result"
    },
    {
     "data": {
      "image/png": "[encoded data removed]",
      "text/plain": [
       "<Figure size 432x288 with 1 Axes>"
      ]
     },
     "metadata": {
      "needs_background": "light"
     },
     "output_type": "display_data"
    }
   ],
   "source": [
    "#sns.set(rc={'figure.figsize':(10,4)})\n",
    "ax = sns.barplot(x=\"MSE\", y=\"MODEL\", hue=\"opt\", data=df_models_steps, palette=color2) \n",
    "#plt.title('MSE of single models with optimalization and without opt.', fontsize=15)\n",
    "plt.legend(loc='lower left')"
   ]
  },
  {
   "cell_type": "code",
   "execution_count": 62,
   "id": "f48da5c0",
   "metadata": {},
   "outputs": [
    {
     "data": {
      "text/plain": [
       "<matplotlib.legend.Legend at 0x7f1ac559c700>"
      ]
     },
     "execution_count": 62,
     "metadata": {},
     "output_type": "execute_result"
    },
    {
     "data": {
      "image/png": "[encoded data removed]",
      "text/plain": [
       "<Figure size 432x288 with 1 Axes>"
      ]
     },
     "metadata": {
      "needs_background": "light"
     },
     "output_type": "display_data"
    }
   ],
   "source": [
    "ax = sns.barplot(x=\"STD\", y=\"MODEL\", hue=\"opt\", data=df_models_steps, palette=color2)\n",
    "#plt.title('STD of single models with optimalization and without opt.', fontsize=15)\n",
    "plt.legend(loc='lower left')"
   ]
  },
  {
   "cell_type": "code",
   "execution_count": null,
   "id": "dc85011c",
   "metadata": {},
   "outputs": [],
   "source": []
  }
 ],
 "metadata": {
  "kernelspec": {
   "display_name": "Python 3 (ipykernel)",
   "language": "python",
   "name": "python3"
  },
  "language_info": {
   "codemirror_mode": {
    "name": "ipython",
    "version": 3
   },
   "file_extension": ".py",
   "mimetype": "text/x-python",
   "name": "python",
   "nbconvert_exporter": "python",
   "pygments_lexer": "ipython3",
   "version": "3.9.13"
  }
 },
 "nbformat": 4,
 "nbformat_minor": 5
}
