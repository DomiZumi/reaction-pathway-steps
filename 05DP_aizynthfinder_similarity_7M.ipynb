{
 "cells": [
  {
   "cell_type": "code",
   "execution_count": 2,
   "id": "0edf873d",
   "metadata": {},
   "outputs": [],
   "source": [
    "import numpy as np\n",
    "import pandas as pd\n",
    "import seaborn as sns\n",
    "import matplotlib.pyplot as plt\n",
    "from rdkit.Chem import AllChem as Chem\n",
    "from rdkit.Chem import RDConfig, Draw\n",
    "#from IPython.core.display import HTML\n",
    "#from rdkit.Chem.Draw import rdMolDraw2D\n",
    "from pathlib import Path \n",
    "#from io import BytesIO\n",
    "#import joblib\n",
    "#import base64\n",
    "import glob\n",
    "import os\n",
    "from rdkit import DataStructs"
   ]
  },
  {
   "cell_type": "markdown",
   "id": "a5f0f374",
   "metadata": {},
   "source": [
    "# AiZynthFinder outputs - similarity"
   ]
  },
  {
   "cell_type": "code",
   "execution_count": 3,
   "id": "c2ea160c",
   "metadata": {},
   "outputs": [],
   "source": [
    "path = 'data/balanced_data'\n",
    "files = Path(path).glob('*.csv') "
   ]
  },
  {
   "cell_type": "code",
   "execution_count": 4,
   "id": "3bcd8647",
   "metadata": {},
   "outputs": [],
   "source": [
    "all_files = glob.glob(os.path.join(path , \"*.csv\"))\n",
    "frames = []\n",
    "for filename in all_files:\n",
    "    df = pd.read_csv(filename, index_col=None, header=0)\n",
    "    frames.append(df)\n",
    "df = pd.concat(frames, axis=0, ignore_index=True)"
   ]
  },
  {
   "cell_type": "code",
   "execution_count": 5,
   "id": "982af592",
   "metadata": {},
   "outputs": [],
   "source": [
    "df = df.drop_duplicates(subset = 'target')"
   ]
  },
  {
   "cell_type": "code",
   "execution_count": 6,
   "id": "70fa6d8d",
   "metadata": {},
   "outputs": [
    {
     "data": {
      "text/plain": [
       "20000"
      ]
     },
     "execution_count": 6,
     "metadata": {},
     "output_type": "execute_result"
    }
   ],
   "source": [
    "len(df)"
   ]
  },
  {
   "cell_type": "code",
   "execution_count": 7,
   "id": "b91e2d73",
   "metadata": {},
   "outputs": [
    {
     "data": {
      "text/plain": [
       "15918"
      ]
     },
     "execution_count": 7,
     "metadata": {},
     "output_type": "execute_result"
    }
   ],
   "source": [
    "df = df[df.number_of_steps <= 10]\n",
    "df = df[df.number_of_steps > 0]\n",
    "len(df)"
   ]
  },
  {
   "cell_type": "code",
   "execution_count": 8,
   "id": "f1402afa",
   "metadata": {},
   "outputs": [
    {
     "data": {
      "text/plain": [
       "<AxesSubplot:>"
      ]
     },
     "execution_count": 8,
     "metadata": {},
     "output_type": "execute_result"
    },
    {
     "data": {
      "image/png": "[encoded data removed]",
      "text/plain": [
       "<Figure size 576x288 with 1 Axes>"
      ]
     },
     "metadata": {
      "needs_background": "light"
     },
     "output_type": "display_data"
    }
   ],
   "source": [
    "plt.figure(figsize=(8,4))\n",
    "df.number_of_steps.hist() "
   ]
  },
  {
   "cell_type": "code",
   "execution_count": 9,
   "id": "66edd581",
   "metadata": {},
   "outputs": [
    {
     "data": {
      "text/plain": [
       "3    6378\n",
       "2    4324\n",
       "1    3514\n",
       "0    1702\n",
       "Name: steps_bins, dtype: int64"
      ]
     },
     "execution_count": 9,
     "metadata": {},
     "output_type": "execute_result"
    }
   ],
   "source": [
    "df['steps_bins'] = pd.cut(df['number_of_steps'], [0,1,3,6,10], labels=False) #, labels=False\n",
    "df.steps_bins.value_counts()"
   ]
  },
  {
   "cell_type": "code",
   "execution_count": 10,
   "id": "7f648deb",
   "metadata": {},
   "outputs": [],
   "source": [
    "all_mols = [Chem.MolFromSmiles(smile) for smile in df.target]\n",
    "fingers = [Chem.GetMorganFingerprintAsBitVect(m, 2, nBits=1024) for m in all_mols]\n",
    "df['mol'] = all_mols\n",
    "df['finger'] = fingers"
   ]
  },
  {
   "cell_type": "markdown",
   "id": "ff7487a7",
   "metadata": {},
   "source": [
    "# Similarity"
   ]
  },
  {
   "cell_type": "code",
   "execution_count": 11,
   "id": "674484b1",
   "metadata": {},
   "outputs": [],
   "source": [
    "def similarity_search(df, f): \n",
    "    sim = [DataStructs.FingerprintSimilarity(x, f) for x in df.finger]\n",
    "    return sim\n",
    "\n",
    "def similarity(df):\n",
    "    distance_matrix = []\n",
    "    for i in range(0,len(df)):\n",
    "        s = similarity_search(df, df.finger[i])\n",
    "        distance_matrix.append(s)\n",
    "    return distance_matrix"
   ]
  },
  {
   "cell_type": "code",
   "execution_count": 12,
   "id": "2179b843",
   "metadata": {},
   "outputs": [],
   "source": [
    "df_0 = df[df.steps_bins == 0]\n",
    "df_0 = df_0.reset_index()\n",
    "df_1 = df[df.steps_bins == 1]\n",
    "df_1 = df_1.reset_index()\n",
    "df_2 = df[df.steps_bins == 2]\n",
    "df_2 = df_2.reset_index()\n",
    "df_3 = df[df.steps_bins == 3]\n",
    "df_3 = df_3.reset_index()"
   ]
  },
  {
   "cell_type": "code",
   "execution_count": 13,
   "id": "fbef5ee5",
   "metadata": {},
   "outputs": [],
   "source": [
    "mean = []\n",
    "std = []\n",
    "for fps in df_0.finger:\n",
    "    a = similarity_search(df_0, fps)\n",
    "    mean.append(np.mean(a))\n",
    "    std.append(np.std(a))\n",
    "df_0 = df_0.assign(mean = mean, std = std)"
   ]
  },
  {
   "cell_type": "code",
   "execution_count": 14,
   "id": "77b44abc",
   "metadata": {},
   "outputs": [
    {
     "data": {
      "text/plain": [
       "0.13924896780232923"
      ]
     },
     "execution_count": 14,
     "metadata": {},
     "output_type": "execute_result"
    }
   ],
   "source": [
    "df_0['mean'].mean()"
   ]
  },
  {
   "cell_type": "code",
   "execution_count": 15,
   "id": "9a566720",
   "metadata": {},
   "outputs": [
    {
     "data": {
      "text/plain": [
       "<AxesSubplot:xlabel='mean', ylabel='Count'>"
      ]
     },
     "execution_count": 15,
     "metadata": {},
     "output_type": "execute_result"
    },
    {
     "data": {
      "image/png": "[encoded data removed]",
      "text/plain": [
       "<Figure size 432x288 with 1 Axes>"
      ]
     },
     "metadata": {
      "needs_background": "light"
     },
     "output_type": "display_data"
    }
   ],
   "source": [
    "sns.histplot(df_0['mean'])"
   ]
  },
  {
   "cell_type": "code",
   "execution_count": 16,
   "id": "fe0095da",
   "metadata": {},
   "outputs": [],
   "source": [
    "mean = []\n",
    "std = []\n",
    "for fps in df_1.finger:\n",
    "    a = similarity_search(df_1, fps)\n",
    "    mean.append(np.mean(a))\n",
    "    std.append(np.std(a))\n",
    "df_1 = df_1.assign(mean = mean, std = std)"
   ]
  },
  {
   "cell_type": "code",
   "execution_count": 17,
   "id": "05bfe0d2",
   "metadata": {},
   "outputs": [
    {
     "data": {
      "text/plain": [
       "0.1316148289708285"
      ]
     },
     "execution_count": 17,
     "metadata": {},
     "output_type": "execute_result"
    }
   ],
   "source": [
    "df_1['mean'].mean()"
   ]
  },
  {
   "cell_type": "code",
   "execution_count": 18,
   "id": "26936793",
   "metadata": {},
   "outputs": [
    {
     "data": {
      "text/plain": [
       "<AxesSubplot:xlabel='mean', ylabel='Count'>"
      ]
     },
     "execution_count": 18,
     "metadata": {},
     "output_type": "execute_result"
    },
    {
     "data": {
      "image/png": "[encoded data removed]",
      "text/plain": [
       "<Figure size 432x288 with 1 Axes>"
      ]
     },
     "metadata": {
      "needs_background": "light"
     },
     "output_type": "display_data"
    }
   ],
   "source": [
    "sns.histplot(df_1['mean'])"
   ]
  },
  {
   "cell_type": "code",
   "execution_count": 19,
   "id": "159f66e7",
   "metadata": {},
   "outputs": [],
   "source": [
    "mean = []\n",
    "std = []\n",
    "for fps in df_2.finger:\n",
    "    a = similarity_search(df_2, fps)\n",
    "    mean.append(np.mean(a))\n",
    "    std.append(np.std(a))\n",
    "df_2 = df_2.assign(mean = mean, std = std)"
   ]
  },
  {
   "cell_type": "code",
   "execution_count": 20,
   "id": "95751aad",
   "metadata": {},
   "outputs": [
    {
     "data": {
      "text/plain": [
       "0.12141268340464373"
      ]
     },
     "execution_count": 20,
     "metadata": {},
     "output_type": "execute_result"
    }
   ],
   "source": [
    "df_2['mean'].mean()"
   ]
  },
  {
   "cell_type": "code",
   "execution_count": 21,
   "id": "351302b2",
   "metadata": {},
   "outputs": [
    {
     "data": {
      "text/plain": [
       "<AxesSubplot:xlabel='mean', ylabel='Count'>"
      ]
     },
     "execution_count": 21,
     "metadata": {},
     "output_type": "execute_result"
    },
    {
     "data": {
      "image/png": "[encoded data removed]",
      "text/plain": [
       "<Figure size 432x288 with 1 Axes>"
      ]
     },
     "metadata": {
      "needs_background": "light"
     },
     "output_type": "display_data"
    }
   ],
   "source": [
    "sns.histplot(df_2['mean'])"
   ]
  },
  {
   "cell_type": "code",
   "execution_count": 22,
   "id": "3d26ae8c",
   "metadata": {},
   "outputs": [],
   "source": [
    "mean = []\n",
    "std = []\n",
    "for fps in df_3.finger:\n",
    "    a = similarity_search(df_3, fps)\n",
    "    mean.append(np.mean(a))\n",
    "    std.append(np.std(a))\n",
    "df_3 = df_3.assign(mean = mean, std = std)"
   ]
  },
  {
   "cell_type": "code",
   "execution_count": 23,
   "id": "3988f13c",
   "metadata": {},
   "outputs": [
    {
     "data": {
      "text/plain": [
       "0.1182730130869405"
      ]
     },
     "execution_count": 23,
     "metadata": {},
     "output_type": "execute_result"
    }
   ],
   "source": [
    "df_3['mean'].mean()"
   ]
  },
  {
   "cell_type": "code",
   "execution_count": 24,
   "id": "d4200394",
   "metadata": {},
   "outputs": [
    {
     "data": {
      "text/plain": [
       "<AxesSubplot:xlabel='mean', ylabel='Count'>"
      ]
     },
     "execution_count": 24,
     "metadata": {},
     "output_type": "execute_result"
    },
    {
     "data": {
      "image/png": "[encoded data removed]",
      "text/plain": [
       "<Figure size 432x288 with 1 Axes>"
      ]
     },
     "metadata": {
      "needs_background": "light"
     },
     "output_type": "display_data"
    }
   ],
   "source": [
    "sns.histplot(df_3['mean'])"
   ]
  },
  {
   "cell_type": "code",
   "execution_count": 25,
   "id": "f22b958d",
   "metadata": {},
   "outputs": [],
   "source": [
    "distance_matrix_0 = similarity(df_0)\n",
    "distance_matrix_1 = similarity(df_1)\n",
    "distance_matrix_2 = similarity(df_2)\n",
    "distance_matrix_3 = similarity(df_3)"
   ]
  },
  {
   "cell_type": "code",
   "execution_count": 26,
   "id": "d9d8d1ab",
   "metadata": {},
   "outputs": [
    {
     "data": {
      "text/plain": [
       "<AxesSubplot:ylabel='Count'>"
      ]
     },
     "execution_count": 26,
     "metadata": {},
     "output_type": "execute_result"
    },
    {
     "data": {
      "image/png": "[encoded data removed]",
      "text/plain": [
       "<Figure size 1080x360 with 4 Axes>"
      ]
     },
     "metadata": {
      "needs_background": "light"
     },
     "output_type": "display_data"
    }
   ],
   "source": [
    "fig, axes = plt.subplots(2, 2, figsize=(15,5))\n",
    "\n",
    "sns.histplot(distance_matrix_0[0], ax=axes[0,0])\n",
    "sns.histplot(distance_matrix_1[0], ax=axes[0,1])\n",
    "sns.histplot(distance_matrix_2[0], ax=axes[1,0])\n",
    "sns.histplot(distance_matrix_3[0], ax=axes[1,1])"
   ]
  },
  {
   "cell_type": "code",
   "execution_count": 27,
   "id": "1b1d4423",
   "metadata": {},
   "outputs": [],
   "source": [
    "# df['similarity']='NO'\n",
    "# df.loc[df['similar'] > 0.80, 'similarity'] = 'YES'\n",
    "# df['similarity'].value_counts()"
   ]
  },
  {
   "cell_type": "code",
   "execution_count": null,
   "id": "1e5ed352",
   "metadata": {},
   "outputs": [],
   "source": []
  },
  {
   "cell_type": "code",
   "execution_count": null,
   "id": "6870d7ff",
   "metadata": {},
   "outputs": [],
   "source": []
  },
  {
   "cell_type": "code",
   "execution_count": null,
   "id": "94dbb31e",
   "metadata": {},
   "outputs": [],
   "source": []
  }
 ],
 "metadata": {
  "kernelspec": {
   "display_name": "Python 3 (ipykernel)",
   "language": "python",
   "name": "python3"
  },
  "language_info": {
   "codemirror_mode": {
    "name": "ipython",
    "version": 3
   },
   "file_extension": ".py",
   "mimetype": "text/x-python",
   "name": "python",
   "nbconvert_exporter": "python",
   "pygments_lexer": "ipython3",
   "version": "3.9.13"
  }
 },
 "nbformat": 4,
 "nbformat_minor": 5
}
